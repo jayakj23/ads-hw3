{
 "cells": [
  {
   "cell_type": "code",
   "execution_count": 10,
   "metadata": {
    "collapsed": false
   },
   "outputs": [
    {
     "name": "stdout",
     "output_type": "stream",
     "text": [
      "done\n"
     ]
    }
   ],
   "source": [
    "#connect to s3 with the sdk\n",
    "from boto.s3.connection import S3Connection\n",
    "from PIL import Image \n",
    "import webbrowser\n",
    "import datetime\n",
    "import boto3\n",
    "from boto.s3.key import Key\n",
    "\n",
    "from matplotlib.pyplot import imshow\n",
    "import numpy as np\n",
    "from PIL import Image\n",
    "client = boto3.client('rekognition', 'us-east-1')\n",
    "%matplotlib inline\n",
    "\n",
    "#You must change these to your own password and bucket information.\n",
    "conn = S3Connection()\n",
    "\n",
    "from matplotlib.pyplot import imshow\n",
    "import json\n",
    "from pprint import pprint\n",
    "\n",
    "%matplotlib inline\n",
    "import matplotlib\n",
    "matplotlib.rc(\"savefig\", dpi=100)\n",
    "import cv2\n",
    "from collections import namedtuple\n",
    "\n",
    "#only run this once or you will freeze and have to restart the notebook server\n",
    "#to get this working properly, you'll need to change the 'conn = ' line in mxnet_mtcnn_face_detection\n",
    "#from mxnet_mtcnn_face_detection.main_rekognition_filter import getdetector\n",
    "#from mxnet_mtcnn_face_detection.main_rekognition_filter import countfaces\n",
    "#change this to the location of your model folder\n",
    "#detector=getdetector('mxnet_mtcnn_face_detection/model')\n",
    "\n",
    "print ('done')"
   ]
  },
  {
   "cell_type": "code",
   "execution_count": 11,
   "metadata": {
    "collapsed": false
   },
   "outputs": [
    {
     "name": "stdout",
     "output_type": "stream",
     "text": [
      "2\n",
      "print info about this bucket\n",
      "<Bucket: rekognitionbotoartifact>\n",
      "0.002 GB\n",
      "num files: 23\n",
      "Cano1.png\t12302\t2017-05-30T17:38:41.000Z\n",
      "beachpic.png\t92369\t2017-06-21T14:30:49.000Z\n",
      "canoandcruz.png\t102642\t2017-05-30T17:38:41.000Z\n",
      "canoandjayz.png\t50004\t2017-05-30T17:38:41.000Z\n",
      "canoandreyes.png\t81886\t2017-05-30T17:38:42.000Z\n",
      "cat_picture.png\t113078\t2017-06-19T20:30:25.000Z\n",
      "cruz.png\t18921\t2017-05-30T17:38:42.000Z\n",
      "danes.jpg\t17248\t2017-07-31T15:29:50.000Z\n",
      "dog_pic.png\t56996\t2017-06-19T20:30:27.000Z\n",
      "embiidandokafor.png\t94450\t2017-05-30T17:38:42.000Z\n",
      "embiidandsimmons.png\t161768\t2017-05-30T17:38:43.000Z\n",
      "foursixers.png\t77603\t2017-05-30T17:38:44.000Z\n",
      "hinkie.png\t163536\t2017-05-30T17:38:44.000Z\n",
      "hinkieandbrown.png\t48090\t2017-05-30T17:38:45.000Z\n",
      "hinkieandnoel.png\t316380\t2017-05-30T17:38:45.000Z\n",
      "hinkieandsaric.png\t228041\t2017-05-30T17:38:46.000Z\n",
      "hinkiembiid.png\t101365\t2017-05-30T17:38:47.000Z\n",
      "hinkieofakor.png\t245820\t2017-05-30T17:38:47.000Z\n",
      "kbacon.jpg\t24958\t2017-07-31T15:29:50.000Z\n",
      "running_on_beach.png\t60107\t2017-06-21T14:06:01.000Z\n",
      "saricandsilver.png\t166729\t2017-05-30T17:38:48.000Z\n",
      "simmonsandsilver.png\t161652\t2017-05-30T17:38:48.000Z\n",
      "threesixers.png\t88530\t2017-05-30T17:38:49.000Z\n"
     ]
    }
   ],
   "source": [
    "#print the bucket name and contents\n",
    "mybuckets = conn.get_all_buckets()\n",
    "print(len(mybuckets))\n",
    "\n",
    "print ('print info about this bucket')\n",
    "#this bucket is read-public, so feel free to follow this example code without changing \n",
    "#anything besides public/private key\n",
    "bucketname='rekognitionbotoartifact'\n",
    "s3bucket = conn.get_bucket(bucketname)\n",
    "print(s3bucket)\n",
    "size = 0\n",
    "count = 0\n",
    "for key in s3bucket.list():\n",
    "    size += key.size\n",
    "    count += 1\n",
    " \n",
    "print (\"%.3f GB\" % (size*1.0/1024/1024/1024))\n",
    "print (\"num files: \"+str(count))\n",
    "\n",
    "for key in s3bucket.list():\n",
    "        print (\"{name}\\t{size}\\t{modified}\".format(\n",
    "                name = key.name,\n",
    "                size = key.size,\n",
    "                modified = key.last_modified,\n",
    "                ))"
   ]
  },
  {
   "cell_type": "code",
   "execution_count": null,
   "metadata": {
    "collapsed": false
   },
   "outputs": [
    {
     "name": "stdout",
     "output_type": "stream",
     "text": [
      "Cano1.png\n",
      "Rekognition faces detected count: 1\n",
      "beachpic.png\n",
      "Rekognition faces detected count: 0\n",
      "canoandcruz.png\n",
      "Rekognition faces detected count: 2\n",
      "canoandjayz.png\n",
      "Rekognition faces detected count: 2\n",
      "canoandreyes.png\n",
      "Rekognition faces detected count: 1\n",
      "cat_picture.png\n",
      "Rekognition faces detected count: 0\n",
      "cruz.png\n",
      "Rekognition faces detected count: 1\n",
      "danes.jpg\n",
      "failed on: danes.jpg\n",
      "\n",
      "dog_pic.png\n",
      "Rekognition faces detected count: 0\n",
      "embiidandokafor.png\n",
      "Rekognition faces detected count: 2\n",
      "embiidandsimmons.png\n",
      "Rekognition faces detected count: 2\n",
      "foursixers.png\n",
      "Rekognition faces detected count: 4\n",
      "hinkie.png\n",
      "Rekognition faces detected count: 1\n",
      "hinkieandbrown.png\n",
      "Rekognition faces detected count: 2\n",
      "hinkieandnoel.png\n",
      "Rekognition faces detected count: 2\n",
      "hinkieandsaric.png\n",
      "Rekognition faces detected count: 2\n",
      "hinkiembiid.png\n",
      "Rekognition faces detected count: 2\n",
      "hinkieofakor.png\n",
      "Rekognition faces detected count: 2\n",
      "kbacon.jpg\n",
      "failed on: kbacon.jpg\n",
      "\n",
      "running_on_beach.png\n",
      "Rekognition faces detected count: 0\n",
      "saricandsilver.png\n",
      "Rekognition faces detected count: 2\n",
      "simmonsandsilver.png\n",
      "Rekognition faces detected count: 2\n",
      "threesixers.png\n",
      "Rekognition faces detected count: 3\n"
     ]
    }
   ],
   "source": [
    "#a demo of looping over a s3 bucket. printing out the MTCNN and the num_faces \n",
    "#from rekognition's api. Looking at printed output gives interesting results about errors\n",
    "#coming from both sides. Errors are few though, and are usually worth taking in exchange\n",
    "#for the cost savings\n",
    "#import commands\n",
    "count=0\n",
    "failcount=0\n",
    "\n",
    "correctAPICall=0\n",
    "incorrectAPICall=0\n",
    "correctHold=0\n",
    "incorrectHold=0\n",
    "        \n",
    "for key in s3bucket.list():\n",
    "    #use this line to control how many loops\n",
    "    if count==50:\n",
    "        break\n",
    "    count += 1\n",
    "    if ((count % 100) == 0):\n",
    "        print ('at count: '+str(count)+'\\n')\n",
    "        \n",
    "    print(key.name)\n",
    "    try:\n",
    "        \n",
    "        response = client.recognize_celebrities(\n",
    "            Image={\n",
    "                'S3Object': {\n",
    "                #marinus will need to change the bucket name to whichever they want to use\n",
    "                'Bucket': bucketname,\n",
    "                'Name': key.name\n",
    "                #,'Version': '1'\n",
    "            }\n",
    "        }\n",
    "        )\n",
    "        \n",
    "        #version 1: get ground truth from rekognition api\n",
    "        num_api_faces=len(response['CelebrityFaces'])\n",
    "        print('Rekognition faces detected count: '+str(num_api_faces))\n",
    "        \n",
    "    \n",
    "\n",
    "        \n",
    "        #keep track of success/fail ratio\n",
    "        \n",
    "    except:\n",
    "        print ('failed on: '+key.name)\n",
    "        print('')\n",
    "        failcount=(failcount+1)\n",
    "        \n",
    "        \n",
    "\n"
   ]
  },
  {
   "cell_type": "code",
   "execution_count": null,
   "metadata": {
    "collapsed": false
   },
   "outputs": [],
   "source": [
    "#retrieve and print a selected image\n",
    "image='embiidandsimmons.png'.replace('+',' ')\n",
    "print (image)\n",
    "#make sure that you have the folder path in whatever instance is running this code\n",
    "folder='/home/ubuntu/MTCNN-face-filter'\n",
    "temp_image=folder+'temp_image.png'\n",
    "\n",
    "key = s3bucket.get_key(image)\n",
    "#use the same file name for each temp image or you will start getting a ton of photos \n",
    "#stored in the folder\n",
    "#also, if you are using your own bucket, you may need to tweak this code to handle '/'s\n",
    "key.get_contents_to_filename(temp_image)                                                                  \n",
    "pil_im = Image.open(temp_image, 'r')\n",
    "imshow(np.asarray(pil_im))"
   ]
  },
  {
   "cell_type": "code",
   "execution_count": null,
   "metadata": {
    "collapsed": true
   },
   "outputs": [],
   "source": []
  }
 ],
 "metadata": {
  "kernelspec": {
   "display_name": "Python 3",
   "language": "python",
   "name": "python3"
  },
  "language_info": {
   "codemirror_mode": {
    "name": "ipython",
    "version": 3
   },
   "file_extension": ".py",
   "mimetype": "text/x-python",
   "name": "python",
   "nbconvert_exporter": "python",
   "pygments_lexer": "ipython3",
   "version": "3.6.0"
  }
 },
 "nbformat": 4,
 "nbformat_minor": 2
}
